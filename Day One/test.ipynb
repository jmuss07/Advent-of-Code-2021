{
 "cells": [
  {
   "cell_type": "code",
   "execution_count": 5,
   "metadata": {},
   "outputs": [],
   "source": [
    "with open(\"test.txt\", \"r\") as f:\n",
    "    line = f.readline()\n",
    "    counter = 1\n",
    "    increasing = 0\n",
    "    while line:\n",
    "        old_line = line\n",
    "        new_line = f.readline()\n",
    "        if new_line > old_line:\n",
    "            increasing += 1\n",
    "            print(increasing)\n",
    "            line = f.readline()\n",
    "            counter += 1\n",
    "        else:\n",
    "            print(increasing)\n",
    "            line = f.readline()\n",
    "            counter += 1\n",
    "            "
   ]
  }
 ],
 "metadata": {
  "interpreter": {
   "hash": "31f2aee4e71d21fbe5cf8b01ff0e069b9275f58929596ceb00d14d90e3e16cd6"
  },
  "kernelspec": {
   "display_name": "\"Python/Mu (mu_venv-38-20211228-141225)\"",
   "language": "python",
   "name": "mu_venv-38-20211228-141225"
  },
  "language_info": {
   "codemirror_mode": {
    "name": "ipython",
    "version": 3
   },
   "file_extension": ".py",
   "mimetype": "text/x-python",
   "name": "python",
   "nbconvert_exporter": "python",
   "pygments_lexer": "ipython3",
   "version": "3.8.11"
  },
  "orig_nbformat": 4
 },
 "nbformat": 4,
 "nbformat_minor": 2
}
