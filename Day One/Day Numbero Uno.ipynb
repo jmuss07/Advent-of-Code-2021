{
 "cells": [
  {
   "cell_type": "code",
   "execution_count": 8,
   "metadata": {},
   "outputs": [],
   "source": [
    "import math\n",
    "def Fuel(mass):\n",
    "    return math.floor(mass/3)-2"
   ]
  },
  {
   "cell_type": "code",
   "execution_count": 22,
   "metadata": {
    "scrolled": true
   },
   "outputs": [],
   "source": [
    "with open(\"input_Day_Uno.txt\", \"r\") as f:\n",
    "    result = [Fuel(int(i)) for i in f.readlines()]\n"
   ]
  },
  {
   "cell_type": "code",
   "execution_count": 25,
   "metadata": {},
   "outputs": [
    {
     "data": {
      "text/plain": [
       "3305301"
      ]
     },
     "execution_count": 25,
     "metadata": {},
     "output_type": "execute_result"
    }
   ],
   "source": [
    "sum(result)"
   ]
  },
  {
   "cell_type": "code",
   "execution_count": 28,
   "metadata": {},
   "outputs": [],
   "source": [
    "def fuel2(mass):\n",
    "    return math.floor(mass/3)-2"
   ]
  },
  {
   "cell_type": "code",
   "execution_count": 35,
   "metadata": {},
   "outputs": [
    {
     "name": "stdout",
     "output_type": "stream",
     "text": [
      "1652608\n"
     ]
    }
   ],
   "source": [
    "f = Fuel(3305301)\n",
    "totalfuel = f\n",
    "while f > 0:\n",
    "    f = Fuel(f)\n",
    "    if f > 0:\n",
    "        totalfuel += f\n",
    "\n",
    "print(totalfuel)"
   ]
  },
  {
   "cell_type": "code",
   "execution_count": 36,
   "metadata": {},
   "outputs": [],
   "source": [
    "def Fuel2(mass):\n",
    "    f = Fuel(mass)\n",
    "    totalfuel = f\n",
    "    while f > 0:\n",
    "        f = Fuel(f)\n",
    "        if f > 0:\n",
    "            totalfuel += f\n",
    "    return totalfuel\n"
   ]
  },
  {
   "cell_type": "code",
   "execution_count": 38,
   "metadata": {},
   "outputs": [
    {
     "data": {
      "text/plain": [
       "4955106"
      ]
     },
     "execution_count": 38,
     "metadata": {},
     "output_type": "execute_result"
    }
   ],
   "source": [
    "with open(\"input_Day_Uno.txt\", \"r\") as f:\n",
    "    result = [Fuel2(int(i)) for i in f.readlines()]\n",
    "\n",
    "sum(result)"
   ]
  },
  {
   "cell_type": "code",
   "execution_count": null,
   "metadata": {},
   "outputs": [],
   "source": []
  }
 ],
 "metadata": {
  "kernelspec": {
   "display_name": "Python 3",
   "language": "python",
   "name": "python3"
  },
  "language_info": {
   "codemirror_mode": {
    "name": "ipython",
    "version": 3
   },
   "file_extension": ".py",
   "mimetype": "text/x-python",
   "name": "python",
   "nbconvert_exporter": "python",
   "pygments_lexer": "ipython3",
   "version": "3.7.5"
  }
 },
 "nbformat": 4,
 "nbformat_minor": 2
}
